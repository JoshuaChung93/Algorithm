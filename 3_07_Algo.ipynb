{
  "nbformat": 4,
  "nbformat_minor": 0,
  "metadata": {
    "colab": {
      "provenance": [],
      "authorship_tag": "ABX9TyM6B0eUUVj8uHvgYNGqcLQi",
      "include_colab_link": true
    },
    "kernelspec": {
      "name": "python3",
      "display_name": "Python 3"
    },
    "language_info": {
      "name": "python"
    }
  },
  "cells": [
    {
      "cell_type": "markdown",
      "metadata": {
        "id": "view-in-github",
        "colab_type": "text"
      },
      "source": [
        "<a href=\"https://colab.research.google.com/github/JoshuaChung93/Algorithm/blob/main/3_07_Algo.ipynb\" target=\"_parent\"><img src=\"https://colab.research.google.com/assets/colab-badge.svg\" alt=\"Open In Colab\"/></a>"
      ]
    },
    {
      "cell_type": "markdown",
      "source": [
        "# Find a peak element which is not smaller than its neighbours"
      ],
      "metadata": {
        "id": "z8cTDpbqTeWU"
      }
    },
    {
      "cell_type": "code",
      "execution_count": 3,
      "metadata": {
        "colab": {
          "base_uri": "https://localhost:8080/"
        },
        "id": "LMJ3urL0OF5H",
        "outputId": "a158e326-78a9-4062-f38c-a70a1945ba87"
      },
      "outputs": [
        {
          "output_type": "stream",
          "name": "stdout",
          "text": [
            "Index of a peak point is 2\n"
          ]
        }
      ],
      "source": [
        "class Solution:\n",
        "  def findPeakUtil(self, arr, low, high, n):\n",
        " \n",
        "    # Find index of middle element\n",
        "    # low + (high - low) / 2\n",
        "    mid = low + (high - low)/2\n",
        "    mid = int(mid)\n",
        " \n",
        "    # Compare middle element with its\n",
        "    # neighbours (if neighbours exist)\n",
        "    if ((mid == 0 or arr[mid - 1] <= arr[mid]) and\n",
        "        (mid == n - 1 or arr[mid + 1] <= arr[mid])):\n",
        "        return mid\n",
        " \n",
        " \n",
        "    # If middle element is not peak and\n",
        "    # its left neighbour is greater\n",
        "    # than it, then left half must\n",
        "    # have a peak element\n",
        "    elif (mid > 0 and arr[mid - 1] > arr[mid]):\n",
        "        return findPeakUtil(self, arr, low, (mid - 1), n)\n",
        " \n",
        "    # If middle element is not peak and\n",
        "    # its right neighbour is greater\n",
        "    # than it, then right half must\n",
        "    # have a peak element\n",
        "    else:\n",
        "        return findPeakUtil(self, arr, (mid + 1), high, n)\n",
        " \n",
        " \n",
        "  # A wrapper over recursive\n",
        "  # function findPeakUtil()\n",
        "  def findPeak(self, arr, n):\n",
        "    return findPeakUtil(arr, 0, n - 1, n)\n",
        "\n",
        " \n",
        " \n",
        "# Driver code\n",
        "arr = [1, 3, 20, 4, 1, 0]\n",
        "n = len(arr)\n",
        "print(\"Index of a peak point is\", Solution().findPeak(arr, n))"
      ]
    },
    {
      "cell_type": "markdown",
      "source": [
        "# Find kth node from Middle towards Head of a Linked List\n"
      ],
      "metadata": {
        "id": "0EV5kFyBdVP4"
      }
    },
    {
      "cell_type": "code",
      "source": [
        "class Node:\n",
        "  # function to initialize the node object\n",
        "  def __init__(self, data):\n",
        "    self.data = data\n",
        "    self.next = None\n",
        "\n",
        "# function to insert a node at the beginning of the linked list\n",
        "def push(head, data):\n",
        "  if not head:\n",
        "    # Return new node\n",
        "    return Node(data)\n",
        "\n",
        "  # allocate node\n",
        "  new_node = Node(data)\n",
        "\n",
        "  # link the old list to the new node\n",
        "  new_node.next = head\n",
        "\n",
        "  # move the head to point to the new node\n",
        "  head = new_node\n",
        "  return head\n",
        "\n",
        "# Function to count number of nodes\n",
        "def getCount(head):\n",
        "\n",
        "  count = 0 # initialize count\n",
        "  current = head # initialize current\n",
        "  while (current):\n",
        "    count = count + 1\n",
        "    current = current.next\n",
        "\n",
        "  return count\n",
        "\n",
        "# function to get the kth node from the mid towards beginning\n",
        "def printkthfrommid(head_ref, k):\n",
        "\n",
        "  # get the count of total number of nodes in the linked list\n",
        "  n = getCount(head_ref)\n",
        "\n",
        "  reqNode = int((n/2+1)-k)\n",
        "\n",
        "  # if no such node exist, return -1\n",
        "  if (reqNode <= 0):\n",
        "    return -1\n",
        "\n",
        "  # find node at position reqNode\n",
        "  else:\n",
        "    current = head_ref\n",
        "\n",
        "    # the index of the node we're currently looking at\n",
        "    count = 1\n",
        "    while (current):\n",
        "      if (count == reqNode):\n",
        "        return (current.data)\n",
        "      count = count + 1\n",
        "      current = current.next\n",
        "\n",
        "# Driver code\n",
        "if __name__ == '__main__':\n",
        "\n",
        "  # start with empty list\n",
        "  head = None\n",
        "  k = 2\n",
        "\n",
        "  # create linked list\n",
        "  head = push(head,7)\n",
        "  head = push(head,6)\n",
        "  head = push(head,5)\n",
        "  head = push(head,4)\n",
        "  head = push(head,3)\n",
        "  head = push(head,2)\n",
        "  head = push(head,1)\n",
        "\n",
        "  print(printkthfrommid(head,k))"
      ],
      "metadata": {
        "colab": {
          "base_uri": "https://localhost:8080/"
        },
        "id": "cmb3b5qXP_lR",
        "outputId": "fefaa51d-f94b-4122-d614-1ab9bb187fec"
      },
      "execution_count": 9,
      "outputs": [
        {
          "output_type": "stream",
          "name": "stdout",
          "text": [
            "2\n"
          ]
        }
      ]
    },
    {
      "cell_type": "code",
      "source": [
        "# Method 2: using two pointers(fast, slow)\n",
        "\n",
        "# Node class\n",
        "class Node:\n",
        "\n",
        "  # constructor to initialize the node object\n",
        "  def __init__(self, data):\n",
        "    self.data = data\n",
        "    self.next = None\n",
        "\n",
        "# Linkedlist class\n",
        "class Linkedlist:\n",
        "\n",
        "  # function to initialize head\n",
        "  def __init__(self):\n",
        "    self.head = None\n",
        "\n",
        "  # function to insert a new node at the beginning\n",
        "  def push(self, new_data):\n",
        "    new_node = Node(new_data)\n",
        "    new_node.next = self.head\n",
        "    self.head = new_node\n",
        "\n",
        "  # function to get the kth node from the middle towards beginning\n",
        "  def printKthfrommid(self,k):\n",
        "    slow = self.head\n",
        "    fast = self.head\n",
        "\n",
        "    for i in range(k):\n",
        "      if (fast and fast.next):\n",
        "        fast = fast.next.next\n",
        "      else:\n",
        "        return -1\n",
        "\n",
        "      while (fast and fast.next):\n",
        "        slow = slow.next\n",
        "        fast = fast.next.next\n",
        "\n",
        "      return slow.data\n",
        "\n",
        "# Driver code\n",
        "if __name__ == '__main__':\n",
        "\n",
        "  # start with empty list\n",
        "  head = None\n",
        "  k = 3\n",
        "\n",
        "  # create linked list\n",
        "  head = push(head,7)\n",
        "  head = push(head,6)\n",
        "  head = push(head,5)\n",
        "  head = push(head,4)\n",
        "  head = push(head,3)\n",
        "  head = push(head,2)\n",
        "  head = push(head,1)\n",
        "\n",
        "  print(printkthfrommid(head,k))"
      ],
      "metadata": {
        "colab": {
          "base_uri": "https://localhost:8080/"
        },
        "id": "SeH8AdCKUBzO",
        "outputId": "e3d84c22-7cb0-4db6-bfbf-354bc57d825b"
      },
      "execution_count": 13,
      "outputs": [
        {
          "output_type": "stream",
          "name": "stdout",
          "text": [
            "1\n"
          ]
        }
      ]
    },
    {
      "cell_type": "code",
      "source": [],
      "metadata": {
        "id": "lcHuUNeFZ6KM"
      },
      "execution_count": null,
      "outputs": []
    }
  ]
}