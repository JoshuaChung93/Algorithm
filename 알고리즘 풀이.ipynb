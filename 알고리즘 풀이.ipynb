{
 "cells": [
  {
   "cell_type": "code",
   "execution_count": 3,
   "id": "e4d76f82",
   "metadata": {},
   "outputs": [
    {
     "name": "stdout",
     "output_type": "stream",
     "text": [
      "None\n"
     ]
    }
   ],
   "source": [
    "# 재귀 호출 횟수 1000회이상 늘리기\n",
    "import sys\n",
    "df = sys.setrecursionlimit(10**6) # setrecursionlimit mothod 를 이용하여 10^6만큼 최대 재귀 호출 횟수 늘림\n",
    "print(df)"
   ]
  },
  {
   "cell_type": "code",
   "execution_count": 5,
   "id": "62588951",
   "metadata": {},
   "outputs": [
    {
     "name": "stdout",
     "output_type": "stream",
     "text": [
      "[(2, 4), (3, 4), (2, 3), (1, 3), (1, 2)]\n",
      "[(1, 2), (2, 3), (1, 3), (3, 4), (2, 4)]\n"
     ]
    }
   ],
   "source": [
    "# 특정 키 값을 이용해서 list를 정렬하기\n",
    "from functools import cmp_to_key # cmp_to_key가 필요한 경우 import\n",
    "\n",
    "arr = [(1,2), (2,3), (1,3), (2,4), (3,4)]\n",
    "arr.sort(key=lambda x: x[1], reverse=True) # 튜플 1번째 값으로 정렬\n",
    "print(arr)\n",
    "\n",
    "def func(x, y):  # 튜플 1번째 값으로 정렬\n",
    "    if x[1] != y[1]:  # 만약 1번째 값이 같다면, 0번째 값 내림차순으로 정렬\n",
    "        return x[1] - y[1]\n",
    "    else:\n",
    "        return y[0] - x[0]\n",
    "    \n",
    "arr.sort(key=cmp_to_key(func))\n",
    "print(arr)"
   ]
  },
  {
   "cell_type": "code",
   "execution_count": 1,
   "id": "8d62952f",
   "metadata": {},
   "outputs": [
    {
     "data": {
      "text/plain": [
       "[1, 2, 3, 1, 2, 3, 1, 2, 3]"
      ]
     },
     "execution_count": 1,
     "metadata": {},
     "output_type": "execute_result"
    }
   ],
   "source": [
    "# 다음의 결과값은?\n",
    "[1,2,3]*3"
   ]
  },
  {
   "cell_type": "markdown",
   "id": "dd26d84c",
   "metadata": {},
   "source": [
    "# 아래와 같은 결과값을 가지는 코드는?"
   ]
  },
  {
   "cell_type": "code",
   "execution_count": 7,
   "id": "313a3a1d",
   "metadata": {},
   "outputs": [
    {
     "name": "stdout",
     "output_type": "stream",
     "text": [
      "1024.0\n"
     ]
    }
   ],
   "source": [
    "import math\n",
    "print(math.pow(2,10))"
   ]
  },
  {
   "cell_type": "code",
   "execution_count": 3,
   "id": "35921bf0",
   "metadata": {},
   "outputs": [
    {
     "data": {
      "text/plain": [
       "[2, 4, 6, 8, 10, 12, 14, 16, 18]"
      ]
     },
     "execution_count": 3,
     "metadata": {},
     "output_type": "execute_result"
    }
   ],
   "source": [
    "# 1번\n",
    "y = [x*2 for x in range(1,10)]\n",
    "y"
   ]
  },
  {
   "cell_type": "code",
   "execution_count": 4,
   "id": "c7128534",
   "metadata": {},
   "outputs": [
    {
     "data": {
      "text/plain": [
       "512"
      ]
     },
     "execution_count": 4,
     "metadata": {},
     "output_type": "execute_result"
    }
   ],
   "source": [
    "# 2번\n",
    "y = 1\n",
    "for i in range(1,10):\n",
    "    y = y*2\n",
    "y"
   ]
  },
  {
   "cell_type": "code",
   "execution_count": 5,
   "id": "a378e1c9",
   "metadata": {},
   "outputs": [
    {
     "name": "stdout",
     "output_type": "stream",
     "text": [
      "1024\n"
     ]
    }
   ],
   "source": [
    "# 3번\n",
    "print(2**10)"
   ]
  },
  {
   "cell_type": "code",
   "execution_count": 11,
   "id": "bf15691b",
   "metadata": {},
   "outputs": [
    {
     "data": {
      "text/plain": [
       "[2, 4, 6, 8, 10, 12, 14, 16, 18]"
      ]
     },
     "execution_count": 11,
     "metadata": {},
     "output_type": "execute_result"
    }
   ],
   "source": [
    "# 다음의 결과값을 에측하라\n",
    "n = 10\n",
    "[x*2 for x in range(1,n)]"
   ]
  },
  {
   "cell_type": "code",
   "execution_count": 13,
   "id": "a0848510",
   "metadata": {},
   "outputs": [
    {
     "data": {
      "text/plain": [
       "array([3, 4])"
      ]
     },
     "execution_count": 13,
     "metadata": {},
     "output_type": "execute_result"
    }
   ],
   "source": [
    "import numpy as np\n",
    "table = np.array([\n",
    "    [1,3],\n",
    "    [2,4]\n",
    "])\n",
    "table.max(1)"
   ]
  },
  {
   "cell_type": "code",
   "execution_count": 11,
   "id": "d4b0acfe",
   "metadata": {},
   "outputs": [
    {
     "data": {
      "text/plain": [
       "'fl'"
      ]
     },
     "execution_count": 11,
     "metadata": {},
     "output_type": "execute_result"
    }
   ],
   "source": [
    "# Longest common prefix\n",
    "\n",
    "class Solution:\n",
    "    def longestCommonPrefix(self, strs: list[str]) -> str:\n",
    "        result = \"\"\n",
    "        \n",
    "        for i in range(len(strs[0])):\n",
    "            for s in strs:\n",
    "                if i == len(s) or s[i] != strs[0][i]:\n",
    "                    return result\n",
    "            result += strs[0][i]\n",
    "            \n",
    "        return result\n",
    "\n",
    "strs = ['flower','flow','flight']\n",
    "Solution().longestCommonPrefix(strs)"
   ]
  },
  {
   "cell_type": "code",
   "execution_count": 14,
   "id": "c1f851ab",
   "metadata": {},
   "outputs": [
    {
     "data": {
      "text/plain": [
       "'fl'"
      ]
     },
     "execution_count": 14,
     "metadata": {},
     "output_type": "execute_result"
    }
   ],
   "source": [
    "# Let's use .apply\n",
    "\n",
    "import pandas as pd\n",
    "\n",
    "class Solution:\n",
    "    def longestCommonPrefix(self, strs: list[str]) -> str:\n",
    "        result = \"\"\n",
    "        \n",
    "        for i in range(len(strs[0])):\n",
    "            for s in strs:\n",
    "                if i == len(s) or s[i] != strs[0][i]:\n",
    "                    return result\n",
    "            result += strs[0][i]\n",
    "            \n",
    "        return result\n",
    "        \n",
    "strs = ['flower','flow','flight']\n",
    "df = pd.DataFrame([strs])\n",
    "df\n",
    "Solution().longestCommonPrefix(df.iloc[0])"
   ]
  },
  {
   "cell_type": "code",
   "execution_count": 6,
   "id": "6bdd79d3",
   "metadata": {},
   "outputs": [
    {
     "data": {
      "text/plain": [
       "3"
      ]
     },
     "execution_count": 6,
     "metadata": {},
     "output_type": "execute_result"
    }
   ],
   "source": [
    "# Roman to integer\n",
    "\n",
    "class Solution:\n",
    "    def romanToInt(self, s: str) -> int:\n",
    "        # largest to smallest: add them up\n",
    "        # smaller before larger: subtract smaller\n",
    "        \n",
    "        # make a dictionary\n",
    "        roman = {\"I\": 1, \"V\": 5, \"X\": 10,\n",
    "                \"L\": 50, \"C\": 100, \"D\": 500, \"M\": 1000}\n",
    "        # The result\n",
    "        res = 0\n",
    "        \n",
    "        # literate the dictionary\n",
    "        for i in range(len(s)):\n",
    "            if i + 1 < len(s) and roman[s[i]] < roman[s[i+1]]:\n",
    "                res -= roman[s[i]]\n",
    "            else:\n",
    "                res += roman[s[i]]\n",
    "        \n",
    "        return res\n",
    "    \n",
    "s = \"III\"\n",
    "Solution().romanToInt(s)"
   ]
  },
  {
   "cell_type": "code",
   "execution_count": 8,
   "id": "3694eeaf",
   "metadata": {},
   "outputs": [],
   "source": [
    "# Palindrome Linked List\n",
    "# Definition for singly-linked list.\n",
    "class ListNode:\n",
    "    def __init__(self, val=0, next=None):\n",
    "        self.val = val\n",
    "        self.next = next\n",
    "class Solution:\n",
    "    def isPalindrome(self, head: ListNode) -> bool:\n",
    "        fast = head\n",
    "        slow = head\n",
    "        \n",
    "        # find middle (slow)\n",
    "        while fast and fast.next:\n",
    "            fast = fast.next.next\n",
    "            slow = slow.next\n",
    "            \n",
    "        # reverse second half\n",
    "        prev = None\n",
    "        while slow:\n",
    "            tmp = slow.next\n",
    "            slow.next = prev\n",
    "            prev = slow\n",
    "            slow = tmp\n",
    "            \n",
    "        # check palindrome\n",
    "        left, right = head, prev\n",
    "        while right:\n",
    "            if left.val != right.val:\n",
    "                return False\n",
    "            left = left.next\n",
    "            right = right.next\n",
    "        return True"
   ]
  },
  {
   "cell_type": "code",
   "execution_count": 9,
   "id": "f58d4813",
   "metadata": {},
   "outputs": [],
   "source": []
  }
 ],
 "metadata": {
  "kernelspec": {
   "display_name": "Python 3 (ipykernel)",
   "language": "python",
   "name": "python3"
  },
  "language_info": {
   "codemirror_mode": {
    "name": "ipython",
    "version": 3
   },
   "file_extension": ".py",
   "mimetype": "text/x-python",
   "name": "python",
   "nbconvert_exporter": "python",
   "pygments_lexer": "ipython3",
   "version": "3.9.12"
  }
 },
 "nbformat": 4,
 "nbformat_minor": 5
}
