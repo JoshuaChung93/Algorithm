{
 "cells": [
  {
   "cell_type": "markdown",
   "id": "636e666a",
   "metadata": {},
   "source": [
    "## 931. Minimum Falling Path Sum"
   ]
  },
  {
   "cell_type": "code",
   "execution_count": 1,
   "id": "aa48601c",
   "metadata": {},
   "outputs": [],
   "source": [
    "# minimum falling path sum\n",
    "class Solution:\n",
    "    def minFallingPathSum(self, matrix: list[list[int]]) -> int:\n",
    "        # row는 행, col은 칼럼\n",
    "        row = len(matrix)\n",
    "        col = len(matrix[0])\n",
    "        if col == 1:\n",
    "            res = 0\n",
    "            for i in range(row):\n",
    "                res += matrix[i][0]\n",
    "            return res\n",
    "        for i in range(1,row):\n",
    "            for j in range(col):\n",
    "                if j == col-1:\n",
    "                    matrix[i][j] = min(matrix[i-1][j], matrix[i-1][j-1]) + matrix[i][j]\n",
    "                elif j != 0:\n",
    "                    matrix[i][j] = min(matrix[i-1][j-1], matrix[i-1][j], matrix[i-1][j+1]) + matrix[i][j]\n",
    "                else:\n",
    "                    matrix[i][j] = min(matrix[i-1][j], matrix[i-1][j+1]) + matrix[i][j]\n",
    "        return min(matrix[row-1])"
   ]
  },
  {
   "cell_type": "code",
   "execution_count": null,
   "id": "07253211",
   "metadata": {},
   "outputs": [],
   "source": []
  }
 ],
 "metadata": {
  "kernelspec": {
   "display_name": "Python 3 (ipykernel)",
   "language": "python",
   "name": "python3"
  },
  "language_info": {
   "codemirror_mode": {
    "name": "ipython",
    "version": 3
   },
   "file_extension": ".py",
   "mimetype": "text/x-python",
   "name": "python",
   "nbconvert_exporter": "python",
   "pygments_lexer": "ipython3",
   "version": "3.9.12"
  }
 },
 "nbformat": 4,
 "nbformat_minor": 5
}
